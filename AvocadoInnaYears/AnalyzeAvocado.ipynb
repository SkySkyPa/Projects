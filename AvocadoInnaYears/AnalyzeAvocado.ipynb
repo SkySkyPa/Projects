{
 "cells": [
  {
   "cell_type": "code",
   "execution_count": 1,
   "outputs": [],
   "source": [
    "# read and work with data\n",
    "\n",
    "import pandas as pd\n",
    "import numpy as np"
   ],
   "metadata": {
    "collapsed": false,
    "pycharm": {
     "name": "#%%\n"
    }
   }
  },
  {
   "cell_type": "code",
   "execution_count": 2,
   "outputs": [],
   "source": [
    "df = pd.read_csv('cali_avocados.csv')"
   ],
   "metadata": {
    "collapsed": false,
    "pycharm": {
     "name": "#%%\n"
    }
   }
  },
  {
   "cell_type": "code",
   "execution_count": 3,
   "outputs": [
    {
     "name": "stdout",
     "output_type": "stream",
     "text": [
      "Number of rows:  (420, 11)\n",
      "Value in series missing:  False\n",
      "How many missing values:\n",
      "Year               0\n",
      " Commodity Code    0\n",
      " Crop Name         0\n",
      " County Code       0\n",
      "Country            0\n",
      "Harvested_Acres    0\n",
      "Yield              0\n",
      "Production         0\n",
      "PriceP/U           0\n",
      " Unit              0\n",
      "Value              0\n",
      "dtype: int64\n"
     ]
    }
   ],
   "source": [
    "print(\"Number of rows: \",df.shape)\n",
    "print(\"Value in series missing: \",df.isnull().values.any()) # determine if value in series missing\n",
    "print(\"\"\"How many missing values:\"\"\")\n",
    "print(df.isnull().sum()) # how many missing values"
   ],
   "metadata": {
    "collapsed": false,
    "pycharm": {
     "name": "#%%\n"
    }
   }
  },
  {
   "cell_type": "code",
   "execution_count": 4,
   "outputs": [
    {
     "data": {
      "text/plain": "    Year   Commodity Code   County Code           Country Harvested_Acres  \\\n0   2020           221999            53         Monterey              223   \n1   2020           221999            65        Riverside             3020   \n2   2020           221999            71   San Bernardino              370   \n3   2020           221998            73        San Diego            14400   \n4   2020           221999            79  San Luis Obispo             4240   \n5   2020           221999            83    Santa Barbara             5770   \n6   2020           221999           111          Ventura            16400   \n7   2019           221999            53         Monterey              225   \n8   2019           221999            65        Riverside             2940   \n9   2019           221999            71   San Bernardino              397   \n10  2019           221999            73        San Diego            14900   \n11  2019           221999            79  San Luis Obispo             4440   \n12  2019           221999            83    Santa Barbara             5410   \n13  2019           221999           111          Ventura            16500   \n14  2019           221999           991    Sum of Others             1151   \n15  2018           221999            53         Monterey             256    \n16  2018           221999            65        Riverside            4270    \n17  2018           221999            71   San Bernardino             457    \n18  2018           221999            73        San Diego           17700    \n19  2018           221999            79  San Luis Obispo            4160    \n\n    Yield Production  PriceP/U      Value  \n0    5.56       1240   2379.84    2951000  \n1                                88697000  \n2    2.16        799   2617.02    2091000  \n3    3.51      50500   3028.87  152958000  \n4     5.9      25000   1886.76   47169000  \n5    4.89      28200   2842.59   80161000  \n6    4.29      70300   2556.57  179727000  \n7    6.58       1480      2500    3700000  \n8    5.48      16100   2505.53   40339000  \n9    3.53       1400   2604.29    3646000  \n10   2.38      35400   3958.08  140116000  \n11   2.75      12200   3186.48   38875000  \n12   1.98      10700   3309.44   35411000  \n13   3.02      49800   2349.02  116981000  \n14                                4357000  \n15  4.53       1160   2250.00     2610000  \n16  3.79      16200   2378.27    38528000  \n17  3.85       1760   2379.55     4188000  \n18  2.66      47100   2569.81   121038000  \n19  4.62      19200   2403.39    46145000  ",
      "text/html": "<div>\n<style scoped>\n    .dataframe tbody tr th:only-of-type {\n        vertical-align: middle;\n    }\n\n    .dataframe tbody tr th {\n        vertical-align: top;\n    }\n\n    .dataframe thead th {\n        text-align: right;\n    }\n</style>\n<table border=\"1\" class=\"dataframe\">\n  <thead>\n    <tr style=\"text-align: right;\">\n      <th></th>\n      <th>Year</th>\n      <th>Commodity Code</th>\n      <th>County Code</th>\n      <th>Country</th>\n      <th>Harvested_Acres</th>\n      <th>Yield</th>\n      <th>Production</th>\n      <th>PriceP/U</th>\n      <th>Value</th>\n    </tr>\n  </thead>\n  <tbody>\n    <tr>\n      <th>0</th>\n      <td>2020</td>\n      <td>221999</td>\n      <td>53</td>\n      <td>Monterey</td>\n      <td>223</td>\n      <td>5.56</td>\n      <td>1240</td>\n      <td>2379.84</td>\n      <td>2951000</td>\n    </tr>\n    <tr>\n      <th>1</th>\n      <td>2020</td>\n      <td>221999</td>\n      <td>65</td>\n      <td>Riverside</td>\n      <td>3020</td>\n      <td></td>\n      <td></td>\n      <td></td>\n      <td>88697000</td>\n    </tr>\n    <tr>\n      <th>2</th>\n      <td>2020</td>\n      <td>221999</td>\n      <td>71</td>\n      <td>San Bernardino</td>\n      <td>370</td>\n      <td>2.16</td>\n      <td>799</td>\n      <td>2617.02</td>\n      <td>2091000</td>\n    </tr>\n    <tr>\n      <th>3</th>\n      <td>2020</td>\n      <td>221998</td>\n      <td>73</td>\n      <td>San Diego</td>\n      <td>14400</td>\n      <td>3.51</td>\n      <td>50500</td>\n      <td>3028.87</td>\n      <td>152958000</td>\n    </tr>\n    <tr>\n      <th>4</th>\n      <td>2020</td>\n      <td>221999</td>\n      <td>79</td>\n      <td>San Luis Obispo</td>\n      <td>4240</td>\n      <td>5.9</td>\n      <td>25000</td>\n      <td>1886.76</td>\n      <td>47169000</td>\n    </tr>\n    <tr>\n      <th>5</th>\n      <td>2020</td>\n      <td>221999</td>\n      <td>83</td>\n      <td>Santa Barbara</td>\n      <td>5770</td>\n      <td>4.89</td>\n      <td>28200</td>\n      <td>2842.59</td>\n      <td>80161000</td>\n    </tr>\n    <tr>\n      <th>6</th>\n      <td>2020</td>\n      <td>221999</td>\n      <td>111</td>\n      <td>Ventura</td>\n      <td>16400</td>\n      <td>4.29</td>\n      <td>70300</td>\n      <td>2556.57</td>\n      <td>179727000</td>\n    </tr>\n    <tr>\n      <th>7</th>\n      <td>2019</td>\n      <td>221999</td>\n      <td>53</td>\n      <td>Monterey</td>\n      <td>225</td>\n      <td>6.58</td>\n      <td>1480</td>\n      <td>2500</td>\n      <td>3700000</td>\n    </tr>\n    <tr>\n      <th>8</th>\n      <td>2019</td>\n      <td>221999</td>\n      <td>65</td>\n      <td>Riverside</td>\n      <td>2940</td>\n      <td>5.48</td>\n      <td>16100</td>\n      <td>2505.53</td>\n      <td>40339000</td>\n    </tr>\n    <tr>\n      <th>9</th>\n      <td>2019</td>\n      <td>221999</td>\n      <td>71</td>\n      <td>San Bernardino</td>\n      <td>397</td>\n      <td>3.53</td>\n      <td>1400</td>\n      <td>2604.29</td>\n      <td>3646000</td>\n    </tr>\n    <tr>\n      <th>10</th>\n      <td>2019</td>\n      <td>221999</td>\n      <td>73</td>\n      <td>San Diego</td>\n      <td>14900</td>\n      <td>2.38</td>\n      <td>35400</td>\n      <td>3958.08</td>\n      <td>140116000</td>\n    </tr>\n    <tr>\n      <th>11</th>\n      <td>2019</td>\n      <td>221999</td>\n      <td>79</td>\n      <td>San Luis Obispo</td>\n      <td>4440</td>\n      <td>2.75</td>\n      <td>12200</td>\n      <td>3186.48</td>\n      <td>38875000</td>\n    </tr>\n    <tr>\n      <th>12</th>\n      <td>2019</td>\n      <td>221999</td>\n      <td>83</td>\n      <td>Santa Barbara</td>\n      <td>5410</td>\n      <td>1.98</td>\n      <td>10700</td>\n      <td>3309.44</td>\n      <td>35411000</td>\n    </tr>\n    <tr>\n      <th>13</th>\n      <td>2019</td>\n      <td>221999</td>\n      <td>111</td>\n      <td>Ventura</td>\n      <td>16500</td>\n      <td>3.02</td>\n      <td>49800</td>\n      <td>2349.02</td>\n      <td>116981000</td>\n    </tr>\n    <tr>\n      <th>14</th>\n      <td>2019</td>\n      <td>221999</td>\n      <td>991</td>\n      <td>Sum of Others</td>\n      <td>1151</td>\n      <td></td>\n      <td></td>\n      <td></td>\n      <td>4357000</td>\n    </tr>\n    <tr>\n      <th>15</th>\n      <td>2018</td>\n      <td>221999</td>\n      <td>53</td>\n      <td>Monterey</td>\n      <td>256</td>\n      <td>4.53</td>\n      <td>1160</td>\n      <td>2250.00</td>\n      <td>2610000</td>\n    </tr>\n    <tr>\n      <th>16</th>\n      <td>2018</td>\n      <td>221999</td>\n      <td>65</td>\n      <td>Riverside</td>\n      <td>4270</td>\n      <td>3.79</td>\n      <td>16200</td>\n      <td>2378.27</td>\n      <td>38528000</td>\n    </tr>\n    <tr>\n      <th>17</th>\n      <td>2018</td>\n      <td>221999</td>\n      <td>71</td>\n      <td>San Bernardino</td>\n      <td>457</td>\n      <td>3.85</td>\n      <td>1760</td>\n      <td>2379.55</td>\n      <td>4188000</td>\n    </tr>\n    <tr>\n      <th>18</th>\n      <td>2018</td>\n      <td>221999</td>\n      <td>73</td>\n      <td>San Diego</td>\n      <td>17700</td>\n      <td>2.66</td>\n      <td>47100</td>\n      <td>2569.81</td>\n      <td>121038000</td>\n    </tr>\n    <tr>\n      <th>19</th>\n      <td>2018</td>\n      <td>221999</td>\n      <td>79</td>\n      <td>San Luis Obispo</td>\n      <td>4160</td>\n      <td>4.62</td>\n      <td>19200</td>\n      <td>2403.39</td>\n      <td>46145000</td>\n    </tr>\n  </tbody>\n</table>\n</div>"
     },
     "execution_count": 4,
     "metadata": {},
     "output_type": "execute_result"
    }
   ],
   "source": [
    "df = df.drop(\" Crop Name\", axis='columns')\n",
    "df = df.drop(\" Unit\", axis='columns')\n",
    "\n",
    "df.head(20)"
   ],
   "metadata": {
    "collapsed": false,
    "pycharm": {
     "name": "#%%\n"
    }
   }
  },
  {
   "cell_type": "code",
   "execution_count": 5,
   "outputs": [
    {
     "data": {
      "text/plain": "Year               datetime64[ns]\n Commodity Code             int64\n County Code                int64\nCountry                     int64\nHarvested_Acres             int64\nYield                     float64\nProduction                  int64\nPriceP/U                  float64\nValue                       int64\ndtype: object"
     },
     "execution_count": 5,
     "metadata": {},
     "output_type": "execute_result"
    }
   ],
   "source": [
    "# transform all data to numeric, integer, float (and others)\n",
    "\n",
    "df['Harvested_Acres'].replace('  ', np.nan, inplace=True)\n",
    "df['Yield'].replace('  ', np.nan, inplace=True)\n",
    "df['Production'].replace('  ', np.nan, inplace=True)\n",
    "df['PriceP/U'].replace('  ', np.nan, inplace=True)\n",
    "\n",
    "df['Year'] = pd.to_datetime(df['Year'], format='%Y')\n",
    "\n",
    "df['Country'] = pd.factorize(df.Country)[0]\n",
    "\n",
    "df.dropna(subset=['Harvested_Acres'], inplace=True)\n",
    "df['Harvested_Acres'] = df['Harvested_Acres'].astype(int)\n",
    "\n",
    "df.dropna(subset=['Yield'], inplace=True)\n",
    "df['Yield'] = df['Yield'].astype(float)\n",
    "\n",
    "df.dropna(subset=['Production'], inplace=True)\n",
    "df['Production'] = df['Production'].astype(int)\n",
    "\n",
    "df.dropna(subset=['PriceP/U'], inplace=True)\n",
    "df['PriceP/U'] = df['PriceP/U'].astype(float)\n",
    "\n",
    "df.dropna(subset=['Value'], inplace=True)\n",
    "df['Value'] = df['Value'].astype(int)\n",
    "\n",
    "df.dtypes"
   ],
   "metadata": {
    "collapsed": false,
    "pycharm": {
     "name": "#%%\n"
    }
   }
  },
  {
   "cell_type": "code",
   "execution_count": 6,
   "outputs": [
    {
     "name": "stdout",
     "output_type": "stream",
     "text": [
      "Harvested_Acres        369.800\n",
      "Yield                    2.129\n",
      "Production            1101.700\n",
      "PriceP/U              1078.382\n",
      "Value              1462400.000\n",
      "Name: 0.3, dtype: float64\n",
      "Harvested_Acres    7.663000e+03\n",
      "Yield              3.621000e+00\n",
      "Production         2.146350e+04\n",
      "PriceP/U           2.004095e+03\n",
      "Value              3.534841e+07\n",
      "Name: 0.7, dtype: float64\n"
     ]
    }
   ],
   "source": [
    "df_outl = df.iloc[:, 4:9]\n",
    "\n",
    "# Find outliers after operations with data\n",
    "\n",
    "Q1=df_outl.quantile(0.30)\n",
    "Q3=df_outl.quantile(0.70)\n",
    "\n",
    "print(Q1)\n",
    "print(Q3)"
   ],
   "metadata": {
    "collapsed": false,
    "pycharm": {
     "name": "#%%\n"
    }
   }
  },
  {
   "cell_type": "code",
   "execution_count": 7,
   "outputs": [
    {
     "data": {
      "text/plain": "       Harvested_Acres       Yield     Production     PriceP/U         Value\ncount       394.000000  394.000000     394.000000   394.000000  3.940000e+02\nmean       6461.710660    2.938452   19203.357868  1576.153553  3.121184e+07\nstd        8666.252328    1.395931   28270.407115   765.200147  4.570371e+07\nmin          31.000000    0.140000      29.000000   163.000000  9.000000e+03\n25%         238.500000    1.870000     826.500000   877.750000  1.065750e+06\n50%        1641.500000    2.900000    5243.500000  1618.000000  8.563150e+06\n75%        8457.250000    3.850000   26340.000000  2112.255000  4.233755e+07\nmax       36800.000000    8.600000  160574.000000  3958.080000  2.514521e+08",
      "text/html": "<div>\n<style scoped>\n    .dataframe tbody tr th:only-of-type {\n        vertical-align: middle;\n    }\n\n    .dataframe tbody tr th {\n        vertical-align: top;\n    }\n\n    .dataframe thead th {\n        text-align: right;\n    }\n</style>\n<table border=\"1\" class=\"dataframe\">\n  <thead>\n    <tr style=\"text-align: right;\">\n      <th></th>\n      <th>Harvested_Acres</th>\n      <th>Yield</th>\n      <th>Production</th>\n      <th>PriceP/U</th>\n      <th>Value</th>\n    </tr>\n  </thead>\n  <tbody>\n    <tr>\n      <th>count</th>\n      <td>394.000000</td>\n      <td>394.000000</td>\n      <td>394.000000</td>\n      <td>394.000000</td>\n      <td>3.940000e+02</td>\n    </tr>\n    <tr>\n      <th>mean</th>\n      <td>6461.710660</td>\n      <td>2.938452</td>\n      <td>19203.357868</td>\n      <td>1576.153553</td>\n      <td>3.121184e+07</td>\n    </tr>\n    <tr>\n      <th>std</th>\n      <td>8666.252328</td>\n      <td>1.395931</td>\n      <td>28270.407115</td>\n      <td>765.200147</td>\n      <td>4.570371e+07</td>\n    </tr>\n    <tr>\n      <th>min</th>\n      <td>31.000000</td>\n      <td>0.140000</td>\n      <td>29.000000</td>\n      <td>163.000000</td>\n      <td>9.000000e+03</td>\n    </tr>\n    <tr>\n      <th>25%</th>\n      <td>238.500000</td>\n      <td>1.870000</td>\n      <td>826.500000</td>\n      <td>877.750000</td>\n      <td>1.065750e+06</td>\n    </tr>\n    <tr>\n      <th>50%</th>\n      <td>1641.500000</td>\n      <td>2.900000</td>\n      <td>5243.500000</td>\n      <td>1618.000000</td>\n      <td>8.563150e+06</td>\n    </tr>\n    <tr>\n      <th>75%</th>\n      <td>8457.250000</td>\n      <td>3.850000</td>\n      <td>26340.000000</td>\n      <td>2112.255000</td>\n      <td>4.233755e+07</td>\n    </tr>\n    <tr>\n      <th>max</th>\n      <td>36800.000000</td>\n      <td>8.600000</td>\n      <td>160574.000000</td>\n      <td>3958.080000</td>\n      <td>2.514521e+08</td>\n    </tr>\n  </tbody>\n</table>\n</div>"
     },
     "execution_count": 7,
     "metadata": {},
     "output_type": "execute_result"
    }
   ],
   "source": [
    "df_outl.describe()"
   ],
   "metadata": {
    "collapsed": false,
    "pycharm": {
     "name": "#%%\n"
    }
   }
  },
  {
   "cell_type": "code",
   "execution_count": 2,
   "outputs": [
    {
     "name": "stdout",
     "output_type": "stream",
     "text": [
      "0.4066390041493776\n"
     ]
    }
   ],
   "source": [
    "prec = 98/(98+143)\n",
    "\n",
    "print(prec)"
   ],
   "metadata": {
    "collapsed": false,
    "pycharm": {
     "name": "#%%\n"
    }
   }
  },
  {
   "cell_type": "code",
   "execution_count": null,
   "outputs": [],
   "source": [],
   "metadata": {
    "collapsed": false,
    "pycharm": {
     "name": "#%%\n"
    }
   }
  }
 ],
 "metadata": {
  "kernelspec": {
   "display_name": "Python 3",
   "language": "python",
   "name": "python3"
  },
  "language_info": {
   "codemirror_mode": {
    "name": "ipython",
    "version": 2
   },
   "file_extension": ".py",
   "mimetype": "text/x-python",
   "name": "python",
   "nbconvert_exporter": "python",
   "pygments_lexer": "ipython2",
   "version": "2.7.6"
  }
 },
 "nbformat": 4,
 "nbformat_minor": 0
}